{
 "cells": [
  {
   "cell_type": "code",
   "execution_count": 2,
   "id": "bf15774d",
   "metadata": {},
   "outputs": [],
   "source": [
    "import tensorflow as tf\n",
    "from tensorflow import keras\n",
    "from tensorflow.keras.preprocessing.image import ImageDataGenerator\n",
    "from tensorflow.keras.layers import Conv2D,MaxPooling2D,Dropout,Flatten,Dense\n",
    "from tensorflow.keras.optimizers import Adam\n",
    "import matplotlib.pyplot as plt\n",
    "%matplotlib inline\n",
    "import numpy as np\n",
    "import os"
   ]
  },
  {
   "cell_type": "code",
   "execution_count": 3,
   "id": "ba6866f7",
   "metadata": {},
   "outputs": [],
   "source": [
    "main_dir=\"New Masks Dataset\"\n",
    "train_dir=os.path.join(main_dir,\"Train\")\n",
    "test_dir=os.path.join(main_dir,\"Test\")\n",
    "validation_dir=os.path.join(main_dir,\"Validation\")\n",
    "\n",
    "train_mask_dir=os.path.join(train_dir,\"Mask\")\n",
    "train_nomask_dir=os.path.join(train_dir,\"Non Mask\")"
   ]
  },
  {
   "cell_type": "code",
   "execution_count": 4,
   "id": "16e43a60",
   "metadata": {},
   "outputs": [
    {
     "ename": "FileNotFoundError",
     "evalue": "[WinError 3] The system cannot find the path specified: 'New Masks Dataset\\\\Train\\\\Mask'",
     "output_type": "error",
     "traceback": [
      "\u001b[1;31m---------------------------------------------------------------------------\u001b[0m",
      "\u001b[1;31mFileNotFoundError\u001b[0m                         Traceback (most recent call last)",
      "Input \u001b[1;32mIn [4]\u001b[0m, in \u001b[0;36m<cell line: 1>\u001b[1;34m()\u001b[0m\n\u001b[1;32m----> 1\u001b[0m train_masks_names\u001b[38;5;241m=\u001b[39m\u001b[43mos\u001b[49m\u001b[38;5;241;43m.\u001b[39;49m\u001b[43mlistdir\u001b[49m\u001b[43m(\u001b[49m\u001b[43mtrain_mask_dir\u001b[49m\u001b[43m)\u001b[49m\n",
      "\u001b[1;31mFileNotFoundError\u001b[0m: [WinError 3] The system cannot find the path specified: 'New Masks Dataset\\\\Train\\\\Mask'"
     ]
    }
   ],
   "source": [
    "train_masks_names=os.listdir(train_mask_dir)"
   ]
  },
  {
   "cell_type": "code",
   "execution_count": null,
   "id": "553221d3",
   "metadata": {},
   "outputs": [],
   "source": [
    "train_nomask_names=os.listdir(train_nomask_dir)"
   ]
  },
  {
   "cell_type": "code",
   "execution_count": null,
   "id": "840c53d8",
   "metadata": {},
   "outputs": [],
   "source": [
    "train_datagen=ImageDataGenerator(rescale=1./255,\n",
    "                                zoom_range=0.2,\n",
    "                                rotation_range=40,\n",
    "                                horizontal_flip=True\n",
    "                                )\n",
    "test_datagen=ImageDataGenerator(rescale=1./25)\n",
    "validation_datagen=ImageDataGenerator(rescale=1./25)\n",
    "train_generator=train_datagen.flow_from_directory(train_dir,\n",
    "                                                 target_size=(150,150),\n",
    "                                                 batch_size=32,\n",
    "                                                 class_mode='binary'\n",
    "                                                 )\n",
    "test_generator=test_datagen.flow_from_directory(test_dir,\n",
    "                                                 target_size=(150,150),\n",
    "                                                 batch_size=32,\n",
    "                                                 class_mode='binary'\n",
    "                                                 )\n",
    "validation_generator=validation_datagen.flow_from_directory(validation_dir,\n",
    "                                                 target_size=(150,150),\n",
    "                                                 batch_size=32,\n",
    "                                                 class_mode='binary'\n",
    "                                                 )"
   ]
  },
  {
   "cell_type": "code",
   "execution_count": null,
   "id": "e6f3c17a",
   "metadata": {},
   "outputs": [],
   "source": [
    "train_generator.class_indices"
   ]
  },
  {
   "cell_type": "code",
   "execution_count": null,
   "id": "895603b4",
   "metadata": {
    "scrolled": false
   },
   "outputs": [],
   "source": [
    "model=keras.Sequential()\n",
    "model.add(Conv2D(32,(3,3),padding='SAME',activation='relu',input_shape=(150,150,3)))\n",
    "model.add(MaxPooling2D(pool_size=(2,2)))\n",
    "model.add(Dropout(0.5))\n",
    "#\n",
    "model.add(Conv2D(32,(3,3),padding='SAME',activation='relu'))\n",
    "model.add(MaxPooling2D(pool_size=(2,2)))\n",
    "model.add(Dropout(0.5))\n",
    "#\n",
    "model.add(Flatten())\n",
    "#\n",
    "model.add(Dense(256,activation='relu'))\n",
    "model.add(Dropout(0.5))\n",
    "model.add(Dense(1,activation='sigmoid'))\n",
    "model.summary()"
   ]
  },
  {
   "cell_type": "code",
   "execution_count": null,
   "id": "10545167",
   "metadata": {
    "scrolled": true
   },
   "outputs": [],
   "source": [
    "model.compile(Adam(lr=0.001),loss='binary_crossentropy',metrics=['accuracy'])"
   ]
  },
  {
   "cell_type": "code",
   "execution_count": null,
   "id": "995f4166",
   "metadata": {},
   "outputs": [],
   "source": [
    "history=model.fit(train_generator,\n",
    "                 epochs=30,\n",
    "                 validation_data=validation_generator)"
   ]
  },
  {
   "cell_type": "code",
   "execution_count": null,
   "id": "b893f9bd",
   "metadata": {},
   "outputs": [],
   "source": [
    "model.evaluate(test_generator)"
   ]
  },
  {
   "cell_type": "code",
   "execution_count": null,
   "id": "2c7ac587",
   "metadata": {},
   "outputs": [],
   "source": [
    "model.save('newsaved_model.h5')"
   ]
  },
  {
   "cell_type": "code",
   "execution_count": null,
   "id": "0d2a6339",
   "metadata": {},
   "outputs": [],
   "source": []
  }
 ],
 "metadata": {
  "kernelspec": {
   "display_name": "Python 3 (ipykernel)",
   "language": "python",
   "name": "python3"
  },
  "language_info": {
   "codemirror_mode": {
    "name": "ipython",
    "version": 3
   },
   "file_extension": ".py",
   "mimetype": "text/x-python",
   "name": "python",
   "nbconvert_exporter": "python",
   "pygments_lexer": "ipython3",
   "version": "3.9.12"
  }
 },
 "nbformat": 4,
 "nbformat_minor": 5
}
